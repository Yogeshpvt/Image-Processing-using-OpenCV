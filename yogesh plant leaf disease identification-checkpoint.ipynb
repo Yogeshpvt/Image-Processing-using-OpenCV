{
 "cells": [
  {
   "cell_type": "code",
   "execution_count": 8,
   "id": "ff972c5e",
   "metadata": {},
   "outputs": [],
   "source": [
    "from tkinter import filedialog\n",
    "import cv2\n",
    "import sys\n",
    "import tkinter"
   ]
  },
  {
   "cell_type": "code",
   "execution_count": null,
   "id": "54b02f2e",
   "metadata": {},
   "outputs": [],
   "source": []
  },
  {
   "cell_type": "code",
   "execution_count": 12,
   "id": "9894ae6b",
   "metadata": {},
   "outputs": [],
   "source": [
    "def ProcessImage(self):\n",
    "    OriginalImage = cv2.imread(\"leaf1.jpg\")\n",
    "    cv2.imshow(\"Original Image\", OriginalImage)\n",
    "    b = OriginalImage[:, :, 0]\n",
    "    g = OriginalImage[:, :, 1]\n",
    "    r = OriginalImage[:, :, 2]\n",
    "    cv2.imshow(\"Red Channel\", r)\n",
    "    cv2.imshow(\"Green Channel\", g)\n",
    "    cv2.imshow(\"Blue Channel\", b)\n",
    "    Disease = r - g\n",
    "    global Alpha\n",
    "    Alpha = b\n",
    "    GetAlpha(OriginalImage)\n",
    "    cv2.imshow(\"Alpha Channel\", Alpha)\n",
    "    ProcessingFactor = S.get()\n",
    "    for i in range(0, OriginalImage.shape[0]):\n",
    "        for j in range(0, OriginalImage.shape[1]):\n",
    "            if int(g[i, j]) > ProcessingFactor:\n",
    "                Disease[i, j] = 255\n",
    "    cv2.imshow(\"Disease Image\", Disease)\n",
    "    DisplayDiseasePercentage(Disease)\n",
    "    S.bind('<ButtonRelease-1>', ProcessImage)\n",
    "    MainWindow.mainloop()\n",
    "    \n",
    "   "
   ]
  },
  {
   "cell_type": "code",
   "execution_count": 13,
   "id": "2c049936",
   "metadata": {},
   "outputs": [
    {
     "ename": "IndentationError",
     "evalue": "expected an indented block (<ipython-input-13-0fa341793621>, line 18)",
     "output_type": "error",
     "traceback": [
      "\u001b[1;36m  File \u001b[1;32m\"<ipython-input-13-0fa341793621>\"\u001b[1;36m, line \u001b[1;32m18\u001b[0m\n\u001b[1;33m    global Alpha\u001b[0m\n\u001b[1;37m         ^\u001b[0m\n\u001b[1;31mIndentationError\u001b[0m\u001b[1;31m:\u001b[0m expected an indented block\n"
     ]
    }
   ],
   "source": [
    "def GetAlpha(OriginalImage):\n",
    "    global Alpha\n",
    "    for i in range(0, OriginalImage.shape[0]):\n",
    "        for j in range(0, OriginalImage.shape[1]):\n",
    "            if OriginalImage[i, j, 0] > 200 and OriginalImage[i, j, 1] > 200 and OriginalImage[i, j, 2] > 200:\n",
    "                Alpha[i, j] = 255\n",
    "            else:\n",
    "                Alpha[i, j] = 0\n",
    "\n",
    "\n",
    "def GetFile():\n",
    "    if len(sys.argv) > 1:\n",
    "        return sys.argv[1]\n",
    "    else:\n",
    "        return filedialog.askopenfilename(title=\"Select Image\")\n",
    "\n",
    "\n",
    "def DisplayDiseasePercentage(Disease):\n",
    "    Count = 0\n",
    "    Res = 0\n",
    "    for i in range(0, Disease.shape[0]):\n",
    "        for j in range(0, Disease.shape[1]):\n",
    "            if Alpha[i, j] == 0:\n",
    "                Res += 1\n",
    "            if Disease[i, j] < S.get():\n",
    "                Count += 1\n",
    "    Percent = (Count / Res) * 100\n",
    "    DiseasePercent.set(\"Percentage Disease: \" + str(round(Percent, 2)) + \"%\")\n",
    "\n",
    "\n",
    "Alpha = None\n",
    "MainWindow = tkinter.Tk()\n",
    "MainWindow.title(\"Plant Disease Detector\")\n",
    "\n",
    "S = tkinter.Scale(MainWindow, from_=0, to=255, length=500, orient=tkinter.HORIZONTAL,\n",
    "                  background='white', fg='black', troughcolor='white', label=\"Processing Factor\")\n",
    "S.pack()\n",
    "S.set(150)\n",
    "\n",
    "DiseasePercent = tkinter.StringVar()\n",
    "L = tkinter.Label(MainWindow, textvariable=DiseasePercent)\n",
    "L.pack()\n",
    "\n",
    "filename = GetFile()\n",
    "if filename != \"\":\n",
    "    ProcessImage(None)\n",
    "else:\n",
    "    print(\"No File!\")\n",
    "    exit(0)"
   ]
  },
  {
   "cell_type": "code",
   "execution_count": null,
   "id": "3b2c5a92",
   "metadata": {},
   "outputs": [],
   "source": []
  }
 ],
 "metadata": {
  "kernelspec": {
   "display_name": "Python 3",
   "language": "python",
   "name": "python3"
  },
  "language_info": {
   "codemirror_mode": {
    "name": "ipython",
    "version": 3
   },
   "file_extension": ".py",
   "mimetype": "text/x-python",
   "name": "python",
   "nbconvert_exporter": "python",
   "pygments_lexer": "ipython3",
   "version": "3.6.9"
  }
 },
 "nbformat": 4,
 "nbformat_minor": 5
}
