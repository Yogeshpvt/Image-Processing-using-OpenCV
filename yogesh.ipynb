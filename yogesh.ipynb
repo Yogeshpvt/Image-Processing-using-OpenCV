{
 "cells": [
  {
   "cell_type": "code",
   "execution_count": 5,
   "id": "994214ea",
   "metadata": {},
   "outputs": [
    {
     "ename": "ModuleNotFoundError",
     "evalue": "No module named 'kiwisolver._cext'",
     "output_type": "error",
     "traceback": [
      "\u001b[1;31m---------------------------------------------------------------------------\u001b[0m",
      "\u001b[1;31mModuleNotFoundError\u001b[0m                       Traceback (most recent call last)",
      "\u001b[1;32m<ipython-input-5-7ccc62682c5f>\u001b[0m in \u001b[0;36m<module>\u001b[1;34m\u001b[0m\n\u001b[0;32m      5\u001b[0m \u001b[1;32mimport\u001b[0m \u001b[0mstring\u001b[0m\u001b[1;33m\u001b[0m\u001b[1;33m\u001b[0m\u001b[0m\n\u001b[0;32m      6\u001b[0m \u001b[1;32mfrom\u001b[0m \u001b[0mPIL\u001b[0m \u001b[1;32mimport\u001b[0m \u001b[0mImage\u001b[0m\u001b[1;33m\u001b[0m\u001b[1;33m\u001b[0m\u001b[0m\n\u001b[1;32m----> 7\u001b[1;33m \u001b[1;32mfrom\u001b[0m \u001b[0mplantcv\u001b[0m \u001b[1;32mimport\u001b[0m \u001b[0mplantcv\u001b[0m \u001b[1;32mas\u001b[0m \u001b[0mpcv\u001b[0m\u001b[1;33m\u001b[0m\u001b[1;33m\u001b[0m\u001b[0m\n\u001b[0m",
      "\u001b[1;32m~\\Desktop\\plantcv\\plantcv\\plantcv\\__init__.py\u001b[0m in \u001b[0;36m<module>\u001b[1;34m\u001b[0m\n\u001b[1;32m----> 1\u001b[1;33m \u001b[1;32mimport\u001b[0m \u001b[0mmatplotlib\u001b[0m\u001b[1;33m\u001b[0m\u001b[1;33m\u001b[0m\u001b[0m\n\u001b[0m\u001b[0;32m      2\u001b[0m \u001b[1;32mfrom\u001b[0m \u001b[0mplantcv\u001b[0m\u001b[1;33m.\u001b[0m\u001b[0mplantcv\u001b[0m\u001b[1;33m.\u001b[0m\u001b[0mfatal_error\u001b[0m \u001b[1;32mimport\u001b[0m \u001b[0mfatal_error\u001b[0m\u001b[1;33m\u001b[0m\u001b[1;33m\u001b[0m\u001b[0m\n\u001b[0;32m      3\u001b[0m \u001b[1;32mfrom\u001b[0m \u001b[0mplantcv\u001b[0m\u001b[1;33m.\u001b[0m\u001b[0mplantcv\u001b[0m\u001b[1;33m.\u001b[0m\u001b[0mclasses\u001b[0m \u001b[1;32mimport\u001b[0m \u001b[0mParams\u001b[0m\u001b[1;33m\u001b[0m\u001b[1;33m\u001b[0m\u001b[0m\n\u001b[0;32m      4\u001b[0m \u001b[1;32mfrom\u001b[0m \u001b[0mplantcv\u001b[0m\u001b[1;33m.\u001b[0m\u001b[0mplantcv\u001b[0m\u001b[1;33m.\u001b[0m\u001b[0mclasses\u001b[0m \u001b[1;32mimport\u001b[0m \u001b[0mOutputs\u001b[0m\u001b[1;33m\u001b[0m\u001b[1;33m\u001b[0m\u001b[0m\n\u001b[0;32m      5\u001b[0m \u001b[1;32mfrom\u001b[0m \u001b[0mplantcv\u001b[0m\u001b[1;33m.\u001b[0m\u001b[0mplantcv\u001b[0m\u001b[1;33m.\u001b[0m\u001b[0mclasses\u001b[0m \u001b[1;32mimport\u001b[0m \u001b[0mSpectral_data\u001b[0m\u001b[1;33m\u001b[0m\u001b[1;33m\u001b[0m\u001b[0m\n",
      "\u001b[1;32m~\\anaconda\\envs\\yoenv\\lib\\site-packages\\matplotlib\\__init__.py\u001b[0m in \u001b[0;36m<module>\u001b[1;34m\u001b[0m\n\u001b[0;32m    172\u001b[0m \u001b[1;33m\u001b[0m\u001b[0m\n\u001b[0;32m    173\u001b[0m \u001b[1;33m\u001b[0m\u001b[0m\n\u001b[1;32m--> 174\u001b[1;33m \u001b[0m_check_versions\u001b[0m\u001b[1;33m(\u001b[0m\u001b[1;33m)\u001b[0m\u001b[1;33m\u001b[0m\u001b[1;33m\u001b[0m\u001b[0m\n\u001b[0m\u001b[0;32m    175\u001b[0m \u001b[1;33m\u001b[0m\u001b[0m\n\u001b[0;32m    176\u001b[0m \u001b[1;33m\u001b[0m\u001b[0m\n",
      "\u001b[1;32m~\\anaconda\\envs\\yoenv\\lib\\site-packages\\matplotlib\\__init__.py\u001b[0m in \u001b[0;36m_check_versions\u001b[1;34m()\u001b[0m\n\u001b[0;32m    166\u001b[0m             \u001b[1;33m(\u001b[0m\u001b[1;34m\"pyparsing\"\u001b[0m\u001b[1;33m,\u001b[0m \u001b[1;34m\"2.0.1\"\u001b[0m\u001b[1;33m)\u001b[0m\u001b[1;33m,\u001b[0m\u001b[1;33m\u001b[0m\u001b[1;33m\u001b[0m\u001b[0m\n\u001b[0;32m    167\u001b[0m     ]:\n\u001b[1;32m--> 168\u001b[1;33m         \u001b[0mmodule\u001b[0m \u001b[1;33m=\u001b[0m \u001b[0mimportlib\u001b[0m\u001b[1;33m.\u001b[0m\u001b[0mimport_module\u001b[0m\u001b[1;33m(\u001b[0m\u001b[0mmodname\u001b[0m\u001b[1;33m)\u001b[0m\u001b[1;33m\u001b[0m\u001b[1;33m\u001b[0m\u001b[0m\n\u001b[0m\u001b[0;32m    169\u001b[0m         \u001b[1;32mif\u001b[0m \u001b[0mLooseVersion\u001b[0m\u001b[1;33m(\u001b[0m\u001b[0mmodule\u001b[0m\u001b[1;33m.\u001b[0m\u001b[0m__version__\u001b[0m\u001b[1;33m)\u001b[0m \u001b[1;33m<\u001b[0m \u001b[0mminver\u001b[0m\u001b[1;33m:\u001b[0m\u001b[1;33m\u001b[0m\u001b[1;33m\u001b[0m\u001b[0m\n\u001b[0;32m    170\u001b[0m             raise ImportError(\"Matplotlib requires {}>={}; you have {}\"\n",
      "\u001b[1;32m~\\anaconda\\envs\\yoenv\\lib\\importlib\\__init__.py\u001b[0m in \u001b[0;36mimport_module\u001b[1;34m(name, package)\u001b[0m\n\u001b[0;32m    124\u001b[0m                 \u001b[1;32mbreak\u001b[0m\u001b[1;33m\u001b[0m\u001b[1;33m\u001b[0m\u001b[0m\n\u001b[0;32m    125\u001b[0m             \u001b[0mlevel\u001b[0m \u001b[1;33m+=\u001b[0m \u001b[1;36m1\u001b[0m\u001b[1;33m\u001b[0m\u001b[1;33m\u001b[0m\u001b[0m\n\u001b[1;32m--> 126\u001b[1;33m     \u001b[1;32mreturn\u001b[0m \u001b[0m_bootstrap\u001b[0m\u001b[1;33m.\u001b[0m\u001b[0m_gcd_import\u001b[0m\u001b[1;33m(\u001b[0m\u001b[0mname\u001b[0m\u001b[1;33m[\u001b[0m\u001b[0mlevel\u001b[0m\u001b[1;33m:\u001b[0m\u001b[1;33m]\u001b[0m\u001b[1;33m,\u001b[0m \u001b[0mpackage\u001b[0m\u001b[1;33m,\u001b[0m \u001b[0mlevel\u001b[0m\u001b[1;33m)\u001b[0m\u001b[1;33m\u001b[0m\u001b[1;33m\u001b[0m\u001b[0m\n\u001b[0m\u001b[0;32m    127\u001b[0m \u001b[1;33m\u001b[0m\u001b[0m\n\u001b[0;32m    128\u001b[0m \u001b[1;33m\u001b[0m\u001b[0m\n",
      "\u001b[1;32m~\\anaconda\\envs\\yoenv\\lib\\site-packages\\kiwisolver\\__init__.py\u001b[0m in \u001b[0;36m<module>\u001b[1;34m\u001b[0m\n\u001b[0;32m      6\u001b[0m \u001b[1;31m# The full license is in the file LICENSE, distributed with this software.\u001b[0m\u001b[1;33m\u001b[0m\u001b[1;33m\u001b[0m\u001b[1;33m\u001b[0m\u001b[0m\n\u001b[0;32m      7\u001b[0m \u001b[1;31m# --------------------------------------------------------------------------------------\u001b[0m\u001b[1;33m\u001b[0m\u001b[1;33m\u001b[0m\u001b[1;33m\u001b[0m\u001b[0m\n\u001b[1;32m----> 8\u001b[1;33m from ._cext import (\n\u001b[0m\u001b[0;32m      9\u001b[0m     \u001b[0mBadRequiredStrength\u001b[0m\u001b[1;33m,\u001b[0m\u001b[1;33m\u001b[0m\u001b[1;33m\u001b[0m\u001b[0m\n\u001b[0;32m     10\u001b[0m     \u001b[0mConstraint\u001b[0m\u001b[1;33m,\u001b[0m\u001b[1;33m\u001b[0m\u001b[1;33m\u001b[0m\u001b[0m\n",
      "\u001b[1;31mModuleNotFoundError\u001b[0m: No module named 'kiwisolver._cext'"
     ]
    }
   ],
   "source": [
    "import sys, traceback\n",
    "import cv2\n",
    "import numpy as np\n",
    "import argparse\n",
    "import string\n",
    "from PIL import Image\n",
    "from plantcv import plantcv as pcv "
   ]
  },
  {
   "cell_type": "code",
   "execution_count": null,
   "id": "9fab749b",
   "metadata": {},
   "outputs": [],
   "source": [
    "class options:\n",
    "    def __init__(self):\n",
    "        self.image = \"test8.jpg\"\n",
    "        self.debug = \"plot\"\n",
    "        self.writeimg= False\n",
    "        self.result = \"test8final.json\"\n",
    "        self.outdir = \".\" \n",
    "        \n",
    "# Get options\n",
    "args = options()\n",
    "\n",
    "# Set debug to the global parameter \n",
    "pcv.params.debug = args.debug"
   ]
  },
  {
   "cell_type": "code",
   "execution_count": null,
   "id": "c48d0ce0",
   "metadata": {},
   "outputs": [],
   "source": [
    "# Reading image\n",
    "img, path, filename = pcv.readimage(filename=args.image)"
   ]
  },
  {
   "cell_type": "code",
   "execution_count": null,
   "id": "2f6be1e3",
   "metadata": {
    "scrolled": true
   },
   "outputs": [],
   "source": [
    "# Convertng RGB to HSV and extract the saturation channel\n",
    "s = pcv.rgb2gray_hsv(rgb_img=img, channel='s')"
   ]
  },
  {
   "cell_type": "code",
   "execution_count": null,
   "id": "900dcca8",
   "metadata": {},
   "outputs": [],
   "source": [
    "s_thresh = pcv.threshold.binary(gray_img=s, threshold=85, max_value=255, object_type='light')"
   ]
  },
  {
   "cell_type": "code",
   "execution_count": null,
   "id": "c0337101",
   "metadata": {},
   "outputs": [],
   "source": [
    "gaussian_img = pcv.gaussian_blur(img=s_thresh, ksize=(5, 5), sigma_x=0, sigma_y=None)"
   ]
  },
  {
   "cell_type": "code",
   "execution_count": null,
   "id": "329aef5c",
   "metadata": {},
   "outputs": [],
   "source": [
    "# Converting RGB to LAB and extract the blue channel ('b')\n",
    "b = pcv.rgb2gray_lab(rgb_img=img, channel='b')\n",
    "\n",
    "# Threshold the blue channel image \n",
    "b_thresh = pcv.threshold.binary(gray_img=b, threshold=160, max_value=255, object_type='light')"
   ]
  },
  {
   "cell_type": "code",
   "execution_count": null,
   "id": "f6af5b66",
   "metadata": {},
   "outputs": [],
   "source": [
    "bs = pcv.logical_or(bin_img1=gaussian_img, bin_img2=b_thresh)"
   ]
  },
  {
   "cell_type": "code",
   "execution_count": null,
   "id": "82af7766",
   "metadata": {},
   "outputs": [],
   "source": [
    "masked = pcv.apply_mask(img=img, mask=bs, mask_color='white')"
   ]
  },
  {
   "cell_type": "code",
   "execution_count": null,
   "id": "87ed6895",
   "metadata": {},
   "outputs": [],
   "source": [
    "s_thresh.save(\"\")"
   ]
  },
  {
   "cell_type": "code",
   "execution_count": null,
   "id": "b3eb5e10",
   "metadata": {},
   "outputs": [],
   "source": []
  },
  {
   "cell_type": "code",
   "execution_count": null,
   "id": "6a57aaa8",
   "metadata": {},
   "outputs": [],
   "source": []
  }
 ],
 "metadata": {
  "kernelspec": {
   "display_name": "Python 3",
   "language": "python",
   "name": "python3"
  },
  "language_info": {
   "codemirror_mode": {
    "name": "ipython",
    "version": 3
   },
   "file_extension": ".py",
   "mimetype": "text/x-python",
   "name": "python",
   "nbconvert_exporter": "python",
   "pygments_lexer": "ipython3",
   "version": "3.6.9"
  }
 },
 "nbformat": 4,
 "nbformat_minor": 5
}
